{
 "cells": [
  {
   "cell_type": "markdown",
   "id": "92bb9671-4d91-4566-bf4d-61289a3d92e4",
   "metadata": {},
   "source": [
    "# Лабороторна робота 2\n",
    "# Використання Pandas для аналізу даних\n",
    "## Мета: Вивчення основних функцій Pandas для аналізу даних\n",
    "## Варіант:"
   ]
  },
  {
   "cell_type": "code",
   "execution_count": 3,
   "id": "e5dc1b3a-1ab8-4bb3-a17d-c5f99cbe45b2",
   "metadata": {},
   "outputs": [
    {
     "data": {
      "text/plain": [
       "2"
      ]
     },
     "execution_count": 3,
     "metadata": {},
     "output_type": "execute_result"
    }
   ],
   "source": [
    "(2 + 4) % 5 + 1"
   ]
  },
  {
   "cell_type": "markdown",
   "id": "34103c38-fc55-406c-a299-3e5f9a401d1d",
   "metadata": {},
   "source": [
    "3. Отримайте імена стовпців набору даних"
   ]
  },
  {
   "cell_type": "code",
   "execution_count": 3,
   "id": "0870ba8e-0956-4c12-8a0c-7b33ecb373a9",
   "metadata": {},
   "outputs": [
    {
     "data": {
      "text/plain": [
       "Index(['Id', 'Name', 'Year', 'Gender', 'Count'], dtype='object')"
      ]
     },
     "execution_count": 3,
     "metadata": {},
     "output_type": "execute_result"
    }
   ],
   "source": [
    "import pandas as pd\n",
    "\n",
    "file_path = 'NationalNames.csv'\n",
    "\n",
    "file = pd.read_csv(file_path)\n",
    "\n",
    "columns = file.columns\n",
    "columns"
   ]
  },
  {
   "cell_type": "markdown",
   "id": "592b7c2a-3313-4d6a-bb6b-a6e38e390354",
   "metadata": {},
   "source": [
    "4. Отримайте загальну інформацію про дані у наборі даних"
   ]
  },
  {
   "cell_type": "code",
   "execution_count": 11,
   "id": "1b0fb118-6542-475b-aefc-c5afa23d7d70",
   "metadata": {},
   "outputs": [
    {
     "data": {
      "text/html": [
       "<div>\n",
       "<style scoped>\n",
       "    .dataframe tbody tr th:only-of-type {\n",
       "        vertical-align: middle;\n",
       "    }\n",
       "\n",
       "    .dataframe tbody tr th {\n",
       "        vertical-align: top;\n",
       "    }\n",
       "\n",
       "    .dataframe thead th {\n",
       "        text-align: right;\n",
       "    }\n",
       "</style>\n",
       "<table border=\"1\" class=\"dataframe\">\n",
       "  <thead>\n",
       "    <tr style=\"text-align: right;\">\n",
       "      <th></th>\n",
       "      <th>Id</th>\n",
       "      <th>Year</th>\n",
       "      <th>Count</th>\n",
       "    </tr>\n",
       "  </thead>\n",
       "  <tbody>\n",
       "    <tr>\n",
       "      <th>count</th>\n",
       "      <td>1.825433e+06</td>\n",
       "      <td>1.825433e+06</td>\n",
       "      <td>1.825433e+06</td>\n",
       "    </tr>\n",
       "    <tr>\n",
       "      <th>mean</th>\n",
       "      <td>9.127170e+05</td>\n",
       "      <td>1.972620e+03</td>\n",
       "      <td>1.846879e+02</td>\n",
       "    </tr>\n",
       "    <tr>\n",
       "      <th>std</th>\n",
       "      <td>5.269573e+05</td>\n",
       "      <td>3.352891e+01</td>\n",
       "      <td>1.566711e+03</td>\n",
       "    </tr>\n",
       "    <tr>\n",
       "      <th>min</th>\n",
       "      <td>1.000000e+00</td>\n",
       "      <td>1.880000e+03</td>\n",
       "      <td>5.000000e+00</td>\n",
       "    </tr>\n",
       "    <tr>\n",
       "      <th>25%</th>\n",
       "      <td>4.563590e+05</td>\n",
       "      <td>1.949000e+03</td>\n",
       "      <td>7.000000e+00</td>\n",
       "    </tr>\n",
       "    <tr>\n",
       "      <th>50%</th>\n",
       "      <td>9.127170e+05</td>\n",
       "      <td>1.982000e+03</td>\n",
       "      <td>1.200000e+01</td>\n",
       "    </tr>\n",
       "    <tr>\n",
       "      <th>75%</th>\n",
       "      <td>1.369075e+06</td>\n",
       "      <td>2.001000e+03</td>\n",
       "      <td>3.200000e+01</td>\n",
       "    </tr>\n",
       "    <tr>\n",
       "      <th>max</th>\n",
       "      <td>1.825433e+06</td>\n",
       "      <td>2.014000e+03</td>\n",
       "      <td>9.968000e+04</td>\n",
       "    </tr>\n",
       "  </tbody>\n",
       "</table>\n",
       "</div>"
      ],
      "text/plain": [
       "                 Id          Year         Count\n",
       "count  1.825433e+06  1.825433e+06  1.825433e+06\n",
       "mean   9.127170e+05  1.972620e+03  1.846879e+02\n",
       "std    5.269573e+05  3.352891e+01  1.566711e+03\n",
       "min    1.000000e+00  1.880000e+03  5.000000e+00\n",
       "25%    4.563590e+05  1.949000e+03  7.000000e+00\n",
       "50%    9.127170e+05  1.982000e+03  1.200000e+01\n",
       "75%    1.369075e+06  2.001000e+03  3.200000e+01\n",
       "max    1.825433e+06  2.014000e+03  9.968000e+04"
      ]
     },
     "execution_count": 11,
     "metadata": {},
     "output_type": "execute_result"
    }
   ],
   "source": [
    "file.describe()"
   ]
  },
  {
   "cell_type": "markdown",
   "id": "8089ace8-5750-4ac1-9fda-ccc928eece00",
   "metadata": {},
   "source": [
    "5. Знайдіть кількість унікальних імен у наборі даних"
   ]
  },
  {
   "cell_type": "code",
   "execution_count": 11,
   "id": "4cd31ba6-d65b-44be-a1e8-a53247496d6e",
   "metadata": {},
   "outputs": [
    {
     "data": {
      "text/plain": [
       "93889"
      ]
     },
     "execution_count": 11,
     "metadata": {},
     "output_type": "execute_result"
    }
   ],
   "source": [
    "file['Name'].nunique()"
   ]
  },
  {
   "cell_type": "markdown",
   "id": "b0c7f4e4-30d6-4b83-8a8b-652295d83857",
   "metadata": {},
   "source": [
    "8. Знайдіть найпопулярніше ім’я за результатами одного року (ім’я, для якого \n",
    "Count максимальне)"
   ]
  },
  {
   "cell_type": "code",
   "execution_count": 16,
   "id": "d339d3ce-31b0-40db-a725-3aca6cf0af89",
   "metadata": {},
   "outputs": [
    {
     "data": {
      "text/plain": [
       "'The name is Sophia in 2013'"
      ]
     },
     "execution_count": 16,
     "metadata": {},
     "output_type": "execute_result"
    }
   ],
   "source": [
    "year = 2013\n",
    "name = file[file['Year'] == year].sort_values(by='Count', ascending=False).iloc[0]['Name']\n",
    "\n",
    "f\"The name is {name} in {year}\""
   ]
  },
  {
   "cell_type": "markdown",
   "id": "d1c6dea3-a7f8-41f7-a8b1-797f546412af",
   "metadata": {},
   "source": [
    "9. Підрахуйте кількість записів, для яких Count - мінімальне у наборі."
   ]
  },
  {
   "cell_type": "code",
   "execution_count": 17,
   "id": "e079205f-1ea9-4adc-8c30-9897a2e8a17b",
   "metadata": {},
   "outputs": [
    {
     "data": {
      "text/plain": [
       "254615"
      ]
     },
     "execution_count": 17,
     "metadata": {},
     "output_type": "execute_result"
    }
   ],
   "source": [
    "min_count = file['Count'].min()\n",
    "file[file['Count'] == min_count].shape[0]"
   ]
  },
  {
   "cell_type": "markdown",
   "id": "898930e0-8f79-4cfb-b893-6e921fe8ed5d",
   "metadata": {},
   "source": [
    "11. Знайдіть рік із найбільшою кількістю унікальних імен"
   ]
  },
  {
   "cell_type": "code",
   "execution_count": 18,
   "id": "a9fac837-4177-476a-ad66-1034ce4ac4d4",
   "metadata": {},
   "outputs": [
    {
     "data": {
      "text/plain": [
       "np.int64(32488)"
      ]
     },
     "execution_count": 18,
     "metadata": {},
     "output_type": "execute_result"
    }
   ],
   "source": [
    "unique_names_per_year = file.groupby('Year')['Name'].nunique()\n",
    "year_with_max_unique_names = unique_names_per_year.idxmax()\n",
    "unique_names_per_year.max()"
   ]
  },
  {
   "cell_type": "markdown",
   "id": "19623f1e-0b7a-4137-b0bd-4267126ad81c",
   "metadata": {},
   "source": [
    "12. Знайдіть найпопулярніше ім’я в році з найбільшою кількістю унікальних \n",
    "імен (тобто у 2008 році)"
   ]
  },
  {
   "cell_type": "code",
   "execution_count": 22,
   "id": "14e0f7b8-0e31-4e89-a482-2cbe0e888b7c",
   "metadata": {},
   "outputs": [
    {
     "data": {
      "text/plain": [
       "'Jacob'"
      ]
     },
     "execution_count": 22,
     "metadata": {},
     "output_type": "execute_result"
    }
   ],
   "source": [
    "file_2008 = file[file['Year'] == 2008]\n",
    "\n",
    "file_2008.loc[file_2008['Count'].idxmax()]['Name']"
   ]
  },
  {
   "cell_type": "markdown",
   "id": "d62a11cd-16bd-41e4-9488-6f0889fdeda6",
   "metadata": {},
   "source": [
    "13. Знайдіть рік, коли ім’я “Jacob” було найпопулярнішим серед жіночих імен"
   ]
  },
  {
   "cell_type": "code",
   "execution_count": 18,
   "id": "1109688c-34e1-4d35-9665-effbd9dd6664",
   "metadata": {},
   "outputs": [
    {
     "name": "stdout",
     "output_type": "stream",
     "text": [
      "              Id   Name  Year Gender  Count\n",
      "1455556  1455557  Jacob  2004      F    171\n"
     ]
    }
   ],
   "source": [
    "jacob_female = file[(file['Name'] == 'Jacob') & (file['Gender'] == 'F')]\n",
    "\n",
    "most_popular_year = jacob_female.loc[jacob_female['Count'].idxmax()]\n",
    "\n",
    "print(pd.DataFrame([most_popular_year]).to_string())"
   ]
  },
  {
   "cell_type": "markdown",
   "id": "7baef4e5-a0eb-405b-9fc8-78c27c52a83f",
   "metadata": {},
   "source": [
    "14. Знайти рік із найбільшою кількістю гендерно нейтральних імен (однакові \n",
    "чоловічі та жіночі імена)\n"
   ]
  },
  {
   "cell_type": "code",
   "execution_count": 26,
   "id": "2ebd90a2-4612-4b34-823d-67e2021f5a4c",
   "metadata": {},
   "outputs": [
    {
     "name": "stdout",
     "output_type": "stream",
     "text": [
      " Year  Gender_neutral_names\n",
      " 2008                  2557\n"
     ]
    }
   ],
   "source": [
    "gender_count = file.groupby(['Name', 'Year'])['Gender'].nunique().reset_index()\n",
    "gender_neutral = gender_count[gender_count['Gender'] > 1]\n",
    "gender_neutral_per_year = gender_neutral.groupby('Year').size().reset_index(name='Gender_neutral_names')\n",
    "most_gender_neutral_year = gender_neutral_per_year.loc[gender_neutral_per_year['Gender_neutral_names'].idxmax()]\n",
    "print(most_gender_neutral_year.to_frame().T.to_string(index=False))"
   ]
  },
  {
   "cell_type": "markdown",
   "id": "35dbd1f5-0a96-4ee0-becb-08344d9221d7",
   "metadata": {},
   "source": [
    "16. Знайдіть рік, коли народилося найбільше дітей"
   ]
  },
  {
   "cell_type": "code",
   "execution_count": 40,
   "id": "4d6e7cdc-842a-4cf1-a1fe-fd1892778416",
   "metadata": {},
   "outputs": [
    {
     "name": "stdout",
     "output_type": "stream",
     "text": [
      "1957\n"
     ]
    }
   ],
   "source": [
    "total_births_per_year = file.groupby('Year')['Count'].sum().reset_index()\n",
    "print(total_births_per_year.loc[total_births_per_year['Count'].idxmax()]['Year'])"
   ]
  },
  {
   "cell_type": "markdown",
   "id": "ea62ddac-b6fe-48d3-b7d5-7b1aa1fb998b",
   "metadata": {},
   "source": [
    "17. Знайдіть кількість дівчаток та хлопчиків, які народились кожного року"
   ]
  },
  {
   "cell_type": "code",
   "execution_count": 27,
   "id": "0b370c11-732b-47ac-8349-359d0ef70e43",
   "metadata": {},
   "outputs": [
    {
     "name": "stdout",
     "output_type": "stream",
     "text": [
      "Gender       F       M\n",
      "Year                  \n",
      "1880     90993  110491\n",
      "1881     91954  100745\n",
      "1882    107850  113688\n",
      "1883    112321  104629\n",
      "1884    129022  114445\n"
     ]
    }
   ],
   "source": [
    "gender_count_per_year = file.groupby(['Year', 'Gender'])['Count'].sum().unstack()\n",
    "print(gender_count_per_year.head().to_string())"
   ]
  },
  {
   "cell_type": "markdown",
   "id": "44254c7f-7986-4581-8d32-9f5afb8cc8d0",
   "metadata": {},
   "source": [
    "18. Підрахуйте кількість років, коли дівчаток народжувалось більше, ніж \n",
    "хлопчиків"
   ]
  },
  {
   "cell_type": "code",
   "execution_count": 29,
   "id": "d2e57501-24ae-4a77-bff7-6677d94a7a32",
   "metadata": {},
   "outputs": [
    {
     "name": "stdout",
     "output_type": "stream",
     "text": [
      "54\n"
     ]
    }
   ],
   "source": [
    "years_more_girls_than_boys = (gender_count_per_year['F'] > gender_count_per_year['M']).sum()\n",
    "print(years_more_girls_than_boys)"
   ]
  },
  {
   "cell_type": "markdown",
   "id": "67dd1f3c-aa2f-48c4-a14c-67ff1cc638c3",
   "metadata": {},
   "source": [
    "19. Накресліть графік загальної кількості народжень хлопчиків та дівчаток на \n",
    "рік"
   ]
  },
  {
   "cell_type": "code",
   "execution_count": 30,
   "id": "4f170eb0-2afd-4bdd-8918-ce1fc574f2a5",
   "metadata": {},
   "outputs": [
    {
     "data": {
      "image/png": "[encoded data removed]",
      "text/plain": [
       "<Figure size 1200x600 with 1 Axes>"
      ]
     },
     "metadata": {},
     "output_type": "display_data"
    }
   ],
   "source": [
    "import matplotlib.pyplot as plt\n",
    "\n",
    "plt.figure(figsize=(12, 6))\n",
    "plt.plot(gender_count_per_year.index, gender_count_per_year['F'], label='F', color='blue')\n",
    "plt.plot(gender_count_per_year.index, gender_count_per_year['M'], label='M', color='orange')\n",
    "plt.xlabel('Year')\n",
    "plt.ylabel('Total births per year')\n",
    "plt.title('Total number of births per year by gender')\n",
    "plt.legend(title='Gender')\n",
    "plt.grid(True)\n",
    "plt.show()"
   ]
  },
  {
   "cell_type": "markdown",
   "id": "c001a978-0369-4076-89c0-aecb01559f50",
   "metadata": {},
   "source": [
    "22. Підрахуйте скільки років проводилось спостереження"
   ]
  },
  {
   "cell_type": "code",
   "execution_count": 31,
   "id": "51e03f56-1294-4308-adc5-3d18fe77c7d7",
   "metadata": {},
   "outputs": [
    {
     "name": "stdout",
     "output_type": "stream",
     "text": [
      "Спостереження проводилось 135 років\n"
     ]
    }
   ],
   "source": [
    "unique_years_count = file['Year'].nunique()\n",
    "print(f\"Спостереження проводилось {unique_years_count} років\")"
   ]
  },
  {
   "cell_type": "markdown",
   "id": "90ca0fa1-8501-40ea-8bc0-f6e6f4a9f664",
   "metadata": {},
   "source": [
    "23. Знати найпопулярніші гендерно-нейтральні імена (ті, що присутні \n",
    "кожного року)"
   ]
  },
  {
   "cell_type": "code",
   "execution_count": 38,
   "id": "4a9f5f9d-86c8-4db3-8465-ffe71c7e4986",
   "metadata": {},
   "outputs": [
    {
     "name": "stdout",
     "output_type": "stream",
     "text": [
      "       Name\n",
      "      James\n",
      "       John\n",
      "     Robert\n",
      "    Michael\n",
      "       Mary\n",
      "    William\n",
      "      David\n",
      "     Joseph\n",
      "    Richard\n",
      "    Charles\n",
      "     Thomas\n",
      "Christopher\n",
      "     Daniel\n",
      "  Elizabeth\n",
      "   Patricia\n"
     ]
    }
   ],
   "source": [
    "popular_gender_neutral_names = file[file['Name'].isin(gender_neutral_names)].groupby('Name')['Count'].sum().sort_values(ascending=False)\n",
    "print(popular_gender_neutral_names.head(15).index.to_frame(index=False).to_string(index=False))"
   ]
  },
  {
   "cell_type": "markdown",
   "id": "8ad291b6-1f5e-49b0-9664-0c20f0809f23",
   "metadata": {},
   "source": [
    "24. Знайти найпопулярніше серед непопулярних імен (непопулярне ім’я, \n",
    "яким називали дітей найбільшу кількість разів)"
   ]
  },
  {
   "cell_type": "code",
   "execution_count": 40,
   "id": "38e07d08-89e2-4420-9431-0fe348c991a9",
   "metadata": {},
   "outputs": [
    {
     "name": "stdout",
     "output_type": "stream",
     "text": [
      "Наиболее популярное из непопулярных имен - это Aabid. Им называли 5 раз\n"
     ]
    }
   ],
   "source": [
    "name_counts = file.groupby('Name')['Count'].sum()\n",
    "min_count = name_counts.min()\n",
    "least_used_names = name_counts[name_counts == min_count]\n",
    "most_popular_of_least_used_name = least_used_names.idxmax()\n",
    "most_popular_of_least_used_count = least_used_names.max()\n",
    "print(f\"Наиболее популярное из непопулярных имен - это {most_popular_of_least_used_name}. Им называли {most_popular_of_least_used_count} раз\")"
   ]
  },
  {
   "cell_type": "markdown",
   "id": "8dc3e9fe-5a88-4894-8303-b2c739b32e10",
   "metadata": {},
   "source": [
    "27. Знайти найпопулярніші імена в кожному році"
   ]
  },
  {
   "cell_type": "code",
   "execution_count": 43,
   "id": "21a2dc08-88bb-4e78-96ae-f7c1e4d9388c",
   "metadata": {},
   "outputs": [
    {
     "name": "stdout",
     "output_type": "stream",
     "text": [
      "          Name  Count\n",
      "Year                 \n",
      "1880      John   9655\n",
      "1881      John   8769\n",
      "1882      John   9557\n",
      "1883      John   8894\n",
      "1884      John   9388\n",
      "1885      Mary   9128\n",
      "1886      Mary   9890\n",
      "1887      Mary   9888\n",
      "1888      Mary  11754\n",
      "1889      Mary  11648\n",
      "1890      Mary  12078\n",
      "1891      Mary  11703\n",
      "1892      Mary  13173\n",
      "1893      Mary  12784\n",
      "1894      Mary  13151\n",
      "1895      Mary  13446\n",
      "1896      Mary  13811\n",
      "1897      Mary  13413\n",
      "1898      Mary  14406\n",
      "1899      Mary  13172\n",
      "1900      Mary  16707\n",
      "1901      Mary  13136\n",
      "1902      Mary  14486\n",
      "1903      Mary  14275\n",
      "1904      Mary  14962\n",
      "1905      Mary  16067\n",
      "1906      Mary  16370\n",
      "1907      Mary  17580\n",
      "1908      Mary  18666\n",
      "1909      Mary  19259\n",
      "1910      Mary  22848\n",
      "1911      Mary  24390\n",
      "1912      Mary  32303\n",
      "1913      Mary  36641\n",
      "1914      Mary  45344\n",
      "1915      Mary  58187\n",
      "1916      Mary  61437\n",
      "1917      Mary  64280\n",
      "1918      Mary  67370\n",
      "1919      Mary  65840\n",
      "1920      Mary  70976\n",
      "1921      Mary  73985\n",
      "1922      Mary  72171\n",
      "1923      Mary  71634\n",
      "1924      Mary  73527\n",
      "1925      Mary  70601\n",
      "1926      Mary  67823\n",
      "1927      Mary  70632\n",
      "1928      Mary  66866\n",
      "1929      Mary  63508\n",
      "1930      Mary  64134\n",
      "1931    Robert  60497\n",
      "1932      Mary  59871\n",
      "1933      Mary  55493\n",
      "1934      Mary  56918\n",
      "1935    Robert  56514\n",
      "1936    Robert  58486\n",
      "1937    Robert  61821\n",
      "1938    Robert  62262\n",
      "1939    Robert  59640\n",
      "1940     James  62472\n",
      "1941     James  66719\n",
      "1942     James  77173\n",
      "1943     James  80248\n",
      "1944     James  76944\n",
      "1945     James  74450\n",
      "1946     James  87425\n",
      "1947     Linda  99680\n",
      "1948     Linda  96205\n",
      "1949     Linda  91010\n",
      "1950     James  86221\n",
      "1951     James  87175\n",
      "1952     James  87083\n",
      "1953    Robert  86135\n",
      "1954   Michael  88485\n",
      "1955   Michael  88283\n",
      "1956   Michael  90633\n",
      "1957   Michael  92709\n",
      "1958   Michael  90519\n",
      "1959   Michael  85272\n",
      "1960     David  85931\n",
      "1961   Michael  86916\n",
      "1962   Michael  85046\n",
      "1963   Michael  83795\n",
      "1964   Michael  82674\n",
      "1965   Michael  81048\n",
      "1966   Michael  80002\n",
      "1967   Michael  82454\n",
      "1968   Michael  82019\n",
      "1969   Michael  85227\n",
      "1970   Michael  85321\n",
      "1971   Michael  77611\n",
      "1972   Michael  71426\n",
      "1973   Michael  67864\n",
      "1974   Michael  67577\n",
      "1975   Michael  68457\n",
      "1976   Michael  66971\n",
      "1977   Michael  67611\n",
      "1978   Michael  67153\n",
      "1979   Michael  67728\n",
      "1980   Michael  68666\n",
      "1981   Michael  68752\n",
      "1982   Michael  68204\n",
      "1983   Michael  67986\n",
      "1984   Michael  67722\n",
      "1985   Michael  64887\n",
      "1986   Michael  64184\n",
      "1987   Michael  63631\n",
      "1988   Michael  64116\n",
      "1989   Michael  65374\n",
      "1990   Michael  65274\n",
      "1991   Michael  60781\n",
      "1992   Michael  54377\n",
      "1993   Michael  49553\n",
      "1994   Michael  44465\n",
      "1995   Michael  41403\n",
      "1996   Michael  38364\n",
      "1997   Michael  37543\n",
      "1998   Michael  36613\n",
      "1999     Jacob  35344\n",
      "2000     Jacob  34465\n",
      "2001     Jacob  32527\n",
      "2002     Jacob  30556\n",
      "2003     Jacob  29615\n",
      "2004     Jacob  27871\n",
      "2005     Jacob  25814\n",
      "2006     Jacob  24830\n",
      "2007     Jacob  24252\n",
      "2008     Jacob  22568\n",
      "2009  Isabella  22278\n",
      "2010  Isabella  22883\n",
      "2011    Sophia  21816\n",
      "2012    Sophia  22267\n",
      "2013    Sophia  21147\n",
      "2014      Emma  20799\n"
     ]
    }
   ],
   "source": [
    "most_popular_names_per_year = file.loc[file.groupby('Year')['Count'].idxmax()][['Year', 'Name', 'Count']]\n",
    "most_popular_names_per_year.set_index('Year', inplace=True)\n",
    "print(most_popular_names_per_year.to_string())"
   ]
  },
  {
   "cell_type": "code",
   "execution_count": null,
   "id": "854638ed-b281-4fc6-bf08-10364c489d5a",
   "metadata": {},
   "outputs": [],
   "source": []
  }
 ],
 "metadata": {
  "kernelspec": {
   "display_name": "Python 3 (ipykernel)",
   "language": "python",
   "name": "python3"
  },
  "language_info": {
   "codemirror_mode": {
    "name": "ipython",
    "version": 3
   },
   "file_extension": ".py",
   "mimetype": "text/x-python",
   "name": "python",
   "nbconvert_exporter": "python",
   "pygments_lexer": "ipython3",
   "version": "3.11.2"
  }
 },
 "nbformat": 4,
 "nbformat_minor": 5
}
