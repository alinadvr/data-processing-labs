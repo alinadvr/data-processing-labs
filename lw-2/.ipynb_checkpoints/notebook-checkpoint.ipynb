{
 "cells": [
  {
   "cell_type": "markdown",
   "id": "92bb9671-4d91-4566-bf4d-61289a3d92e4",
   "metadata": {},
   "source": [
    "# Лабороторна робота 2\n",
    "# Використання Pandas для аналізу даних\n",
    "## Мета: Вивчення основних функцій Pandas для аналізу даних\n",
    "## Варіант:"
   ]
  },
  {
   "cell_type": "code",
   "execution_count": 3,
   "id": "e5dc1b3a-1ab8-4bb3-a17d-c5f99cbe45b2",
   "metadata": {},
   "outputs": [
    {
     "data": {
      "text/plain": [
       "2"
      ]
     },
     "execution_count": 3,
     "metadata": {},
     "output_type": "execute_result"
    }
   ],
   "source": [
    "(2 + 4) % 5 + 1"
   ]
  },
  {
   "cell_type": "markdown",
   "id": "34103c38-fc55-406c-a299-3e5f9a401d1d",
   "metadata": {},
   "source": [
    "3. Отримайте імена стовпців набору даних"
   ]
  },
  {
   "cell_type": "code",
   "execution_count": 3,
   "id": "0870ba8e-0956-4c12-8a0c-7b33ecb373a9",
   "metadata": {},
   "outputs": [
    {
     "data": {
      "text/plain": [
       "Index(['Id', 'Name', 'Year', 'Gender', 'Count'], dtype='object')"
      ]
     },
     "execution_count": 3,
     "metadata": {},
     "output_type": "execute_result"
    }
   ],
   "source": [
    "import pandas as pd\n",
    "\n",
    "file_path = 'NationalNames.csv'\n",
    "\n",
    "file = pd.read_csv(file_path)\n",
    "\n",
    "columns = file.columns\n",
    "columns"
   ]
  },
  {
   "cell_type": "markdown",
   "id": "592b7c2a-3313-4d6a-bb6b-a6e38e390354",
   "metadata": {},
   "source": [
    "4. Отримайте загальну інформацію про дані у наборі даних"
   ]
  },
  {
   "cell_type": "code",
   "execution_count": 11,
   "id": "1b0fb118-6542-475b-aefc-c5afa23d7d70",
   "metadata": {},
   "outputs": [
    {
     "data": {
      "text/html": [
       "<div>\n",
       "<style scoped>\n",
       "    .dataframe tbody tr th:only-of-type {\n",
       "        vertical-align: middle;\n",
       "    }\n",
       "\n",
       "    .dataframe tbody tr th {\n",
       "        vertical-align: top;\n",
       "    }\n",
       "\n",
       "    .dataframe thead th {\n",
       "        text-align: right;\n",
       "    }\n",
       "</style>\n",
       "<table border=\"1\" class=\"dataframe\">\n",
       "  <thead>\n",
       "    <tr style=\"text-align: right;\">\n",
       "      <th></th>\n",
       "      <th>Id</th>\n",
       "      <th>Year</th>\n",
       "      <th>Count</th>\n",
       "    </tr>\n",
       "  </thead>\n",
       "  <tbody>\n",
       "    <tr>\n",
       "      <th>count</th>\n",
       "      <td>1.825433e+06</td>\n",
       "      <td>1.825433e+06</td>\n",
       "      <td>1.825433e+06</td>\n",
       "    </tr>\n",
       "    <tr>\n",
       "      <th>mean</th>\n",
       "      <td>9.127170e+05</td>\n",
       "      <td>1.972620e+03</td>\n",
       "      <td>1.846879e+02</td>\n",
       "    </tr>\n",
       "    <tr>\n",
       "      <th>std</th>\n",
       "      <td>5.269573e+05</td>\n",
       "      <td>3.352891e+01</td>\n",
       "      <td>1.566711e+03</td>\n",
       "    </tr>\n",
       "    <tr>\n",
       "      <th>min</th>\n",
       "      <td>1.000000e+00</td>\n",
       "      <td>1.880000e+03</td>\n",
       "      <td>5.000000e+00</td>\n",
       "    </tr>\n",
       "    <tr>\n",
       "      <th>25%</th>\n",
       "      <td>4.563590e+05</td>\n",
       "      <td>1.949000e+03</td>\n",
       "      <td>7.000000e+00</td>\n",
       "    </tr>\n",
       "    <tr>\n",
       "      <th>50%</th>\n",
       "      <td>9.127170e+05</td>\n",
       "      <td>1.982000e+03</td>\n",
       "      <td>1.200000e+01</td>\n",
       "    </tr>\n",
       "    <tr>\n",
       "      <th>75%</th>\n",
       "      <td>1.369075e+06</td>\n",
       "      <td>2.001000e+03</td>\n",
       "      <td>3.200000e+01</td>\n",
       "    </tr>\n",
       "    <tr>\n",
       "      <th>max</th>\n",
       "      <td>1.825433e+06</td>\n",
       "      <td>2.014000e+03</td>\n",
       "      <td>9.968000e+04</td>\n",
       "    </tr>\n",
       "  </tbody>\n",
       "</table>\n",
       "</div>"
      ],
      "text/plain": [
       "                 Id          Year         Count\n",
       "count  1.825433e+06  1.825433e+06  1.825433e+06\n",
       "mean   9.127170e+05  1.972620e+03  1.846879e+02\n",
       "std    5.269573e+05  3.352891e+01  1.566711e+03\n",
       "min    1.000000e+00  1.880000e+03  5.000000e+00\n",
       "25%    4.563590e+05  1.949000e+03  7.000000e+00\n",
       "50%    9.127170e+05  1.982000e+03  1.200000e+01\n",
       "75%    1.369075e+06  2.001000e+03  3.200000e+01\n",
       "max    1.825433e+06  2.014000e+03  9.968000e+04"
      ]
     },
     "execution_count": 11,
     "metadata": {},
     "output_type": "execute_result"
    }
   ],
   "source": [
    "file.describe()"
   ]
  },
  {
   "cell_type": "markdown",
   "id": "8089ace8-5750-4ac1-9fda-ccc928eece00",
   "metadata": {},
   "source": [
    "5. Знайдіть кількість унікальних імен у наборі даних"
   ]
  },
  {
   "cell_type": "code",
   "execution_count": 11,
   "id": "4cd31ba6-d65b-44be-a1e8-a53247496d6e",
   "metadata": {},
   "outputs": [
    {
     "data": {
      "text/plain": [
       "93889"
      ]
     },
     "execution_count": 11,
     "metadata": {},
     "output_type": "execute_result"
    }
   ],
   "source": [
    "file['Name'].nunique()"
   ]
  },
  {
   "cell_type": "markdown",
   "id": "b0c7f4e4-30d6-4b83-8a8b-652295d83857",
   "metadata": {},
   "source": [
    "8. Знайдіть найпопулярніше ім’я за результатами одного року (ім’я, для якого \n",
    "Count максимальне)"
   ]
  },
  {
   "cell_type": "code",
   "execution_count": 16,
   "id": "d339d3ce-31b0-40db-a725-3aca6cf0af89",
   "metadata": {},
   "outputs": [
    {
     "data": {
      "text/plain": [
       "'The name is Sophia in 2013'"
      ]
     },
     "execution_count": 16,
     "metadata": {},
     "output_type": "execute_result"
    }
   ],
   "source": [
    "year = 2013\n",
    "name = file[file['Year'] == year].sort_values(by='Count', ascending=False).iloc[0]['Name']\n",
    "\n",
    "f\"The name is {name} in {year}\""
   ]
  },
  {
   "cell_type": "markdown",
   "id": "d1c6dea3-a7f8-41f7-a8b1-797f546412af",
   "metadata": {},
   "source": [
    "9. Підрахуйте кількість записів, для яких Count - мінімальне у наборі."
   ]
  },
  {
   "cell_type": "code",
   "execution_count": 17,
   "id": "e079205f-1ea9-4adc-8c30-9897a2e8a17b",
   "metadata": {},
   "outputs": [
    {
     "data": {
      "text/plain": [
       "254615"
      ]
     },
     "execution_count": 17,
     "metadata": {},
     "output_type": "execute_result"
    }
   ],
   "source": [
    "min_count = file['Count'].min()\n",
    "file[file['Count'] == min_count].shape[0]"
   ]
  },
  {
   "cell_type": "markdown",
   "id": "898930e0-8f79-4cfb-b893-6e921fe8ed5d",
   "metadata": {},
   "source": [
    "11. Знайдіть рік із найбільшою кількістю унікальних імен"
   ]
  },
  {
   "cell_type": "code",
   "execution_count": 18,
   "id": "a9fac837-4177-476a-ad66-1034ce4ac4d4",
   "metadata": {},
   "outputs": [
    {
     "data": {
      "text/plain": [
       "np.int64(32488)"
      ]
     },
     "execution_count": 18,
     "metadata": {},
     "output_type": "execute_result"
    }
   ],
   "source": [
    "unique_names_per_year = file.groupby('Year')['Name'].nunique()\n",
    "year_with_max_unique_names = unique_names_per_year.idxmax()\n",
    "unique_names_per_year.max()"
   ]
  },
  {
   "cell_type": "markdown",
   "id": "19623f1e-0b7a-4137-b0bd-4267126ad81c",
   "metadata": {},
   "source": [
    "12. Знайдіть найпопулярніше ім’я в році з найбільшою кількістю унікальних \n",
    "імен (тобто у 2008 році)"
   ]
  },
  {
   "cell_type": "code",
   "execution_count": 22,
   "id": "14e0f7b8-0e31-4e89-a482-2cbe0e888b7c",
   "metadata": {},
   "outputs": [
    {
     "data": {
      "text/plain": [
       "'Jacob'"
      ]
     },
     "execution_count": 22,
     "metadata": {},
     "output_type": "execute_result"
    }
   ],
   "source": [
    "file_2008 = file[file['Year'] == 2008]\n",
    "\n",
    "file_2008.loc[file_2008['Count'].idxmax()]['Name']"
   ]
  },
  {
   "cell_type": "markdown",
   "id": "d62a11cd-16bd-41e4-9488-6f0889fdeda6",
   "metadata": {},
   "source": [
    "13. Знайдіть рік, коли ім’я “Jacob” було найпопулярнішим серед жіночих імен"
   ]
  },
  {
   "cell_type": "code",
   "execution_count": 18,
   "id": "1109688c-34e1-4d35-9665-effbd9dd6664",
   "metadata": {},
   "outputs": [
    {
     "name": "stdout",
     "output_type": "stream",
     "text": [
      "              Id   Name  Year Gender  Count\n",
      "1455556  1455557  Jacob  2004      F    171\n"
     ]
    }
   ],
   "source": [
    "jacob_female = file[(file['Name'] == 'Jacob') & (file['Gender'] == 'F')]\n",
    "\n",
    "most_popular_year = jacob_female.loc[jacob_female['Count'].idxmax()]\n",
    "\n",
    "print(pd.DataFrame([most_popular_year]).to_string())"
   ]
  },
  {
   "cell_type": "markdown",
   "id": "7baef4e5-a0eb-405b-9fc8-78c27c52a83f",
   "metadata": {},
   "source": [
    "14. Знайти рік із найбільшою кількістю гендерно нейтральних імен (однакові \n",
    "чоловічі та жіночі імена)\n"
   ]
  },
  {
   "cell_type": "code",
   "execution_count": 22,
   "id": "2ebd90a2-4612-4b34-823d-67e2021f5a4c",
   "metadata": {},
   "outputs": [
    {
     "name": "stdout",
     "output_type": "stream",
     "text": [
      "Year        1957\n",
      "Count    4043877\n",
      "Name: 77, dtype: int64\n"
     ]
    },
    {
     "ename": "KeyError",
     "evalue": "'Gender_neutral_names'",
     "output_type": "error",
     "traceback": [
      "\u001b[1;31m---------------------------------------------------------------------------\u001b[0m",
      "\u001b[1;31mKeyError\u001b[0m                                  Traceback (most recent call last)",
      "File \u001b[1;32m~\\PycharmProjects\\data-processing\\lw-1\\.venv\\Lib\\site-packages\\pandas\\core\\indexes\\base.py:3805\u001b[0m, in \u001b[0;36mIndex.get_loc\u001b[1;34m(self, key)\u001b[0m\n\u001b[0;32m   3804\u001b[0m \u001b[38;5;28;01mtry\u001b[39;00m:\n\u001b[1;32m-> 3805\u001b[0m     \u001b[38;5;28;01mreturn\u001b[39;00m \u001b[38;5;28;43mself\u001b[39;49m\u001b[38;5;241;43m.\u001b[39;49m\u001b[43m_engine\u001b[49m\u001b[38;5;241;43m.\u001b[39;49m\u001b[43mget_loc\u001b[49m\u001b[43m(\u001b[49m\u001b[43mcasted_key\u001b[49m\u001b[43m)\u001b[49m\n\u001b[0;32m   3806\u001b[0m \u001b[38;5;28;01mexcept\u001b[39;00m \u001b[38;5;167;01mKeyError\u001b[39;00m \u001b[38;5;28;01mas\u001b[39;00m err:\n",
      "File \u001b[1;32mindex.pyx:167\u001b[0m, in \u001b[0;36mpandas._libs.index.IndexEngine.get_loc\u001b[1;34m()\u001b[0m\n",
      "File \u001b[1;32mindex.pyx:196\u001b[0m, in \u001b[0;36mpandas._libs.index.IndexEngine.get_loc\u001b[1;34m()\u001b[0m\n",
      "File \u001b[1;32mpandas\\\\_libs\\\\hashtable_class_helper.pxi:7081\u001b[0m, in \u001b[0;36mpandas._libs.hashtable.PyObjectHashTable.get_item\u001b[1;34m()\u001b[0m\n",
      "File \u001b[1;32mpandas\\\\_libs\\\\hashtable_class_helper.pxi:7089\u001b[0m, in \u001b[0;36mpandas._libs.hashtable.PyObjectHashTable.get_item\u001b[1;34m()\u001b[0m\n",
      "\u001b[1;31mKeyError\u001b[0m: 'Gender_neutral_names'",
      "\nThe above exception was the direct cause of the following exception:\n",
      "\u001b[1;31mKeyError\u001b[0m                                  Traceback (most recent call last)",
      "Cell \u001b[1;32mIn[22], line 18\u001b[0m\n\u001b[0;32m     15\u001b[0m gender_neutral_per_year \u001b[38;5;241m=\u001b[39m gender_neutral\u001b[38;5;241m.\u001b[39mgroupby(\u001b[38;5;124m'\u001b[39m\u001b[38;5;124mYear\u001b[39m\u001b[38;5;124m'\u001b[39m)\u001b[38;5;241m.\u001b[39msize()\u001b[38;5;241m.\u001b[39mreset_index(name\u001b[38;5;241m=\u001b[39m\u001b[38;5;124m'\u001b[39m\u001b[38;5;124m'\u001b[39m)\n\u001b[0;32m     17\u001b[0m \u001b[38;5;66;03m# Find the year with the highest count of gender-neutral names\u001b[39;00m\n\u001b[1;32m---> 18\u001b[0m most_gender_neutral_year \u001b[38;5;241m=\u001b[39m gender_neutral_per_year\u001b[38;5;241m.\u001b[39mloc[\u001b[43mgender_neutral_per_year\u001b[49m\u001b[43m[\u001b[49m\u001b[38;5;124;43m'\u001b[39;49m\u001b[38;5;124;43mGender_neutral_names\u001b[39;49m\u001b[38;5;124;43m'\u001b[39;49m\u001b[43m]\u001b[49m\u001b[38;5;241m.\u001b[39midxmax()]\n\u001b[0;32m     20\u001b[0m \u001b[38;5;66;03m# Display the result\u001b[39;00m\n\u001b[0;32m     21\u001b[0m \u001b[38;5;28mprint\u001b[39m(most_gender_neutral_year\u001b[38;5;241m.\u001b[39mto_frame()\u001b[38;5;241m.\u001b[39mT\u001b[38;5;241m.\u001b[39mto_string(index\u001b[38;5;241m=\u001b[39m\u001b[38;5;28;01mFalse\u001b[39;00m))\n",
      "File \u001b[1;32m~\\PycharmProjects\\data-processing\\lw-1\\.venv\\Lib\\site-packages\\pandas\\core\\frame.py:4102\u001b[0m, in \u001b[0;36mDataFrame.__getitem__\u001b[1;34m(self, key)\u001b[0m\n\u001b[0;32m   4100\u001b[0m \u001b[38;5;28;01mif\u001b[39;00m \u001b[38;5;28mself\u001b[39m\u001b[38;5;241m.\u001b[39mcolumns\u001b[38;5;241m.\u001b[39mnlevels \u001b[38;5;241m>\u001b[39m \u001b[38;5;241m1\u001b[39m:\n\u001b[0;32m   4101\u001b[0m     \u001b[38;5;28;01mreturn\u001b[39;00m \u001b[38;5;28mself\u001b[39m\u001b[38;5;241m.\u001b[39m_getitem_multilevel(key)\n\u001b[1;32m-> 4102\u001b[0m indexer \u001b[38;5;241m=\u001b[39m \u001b[38;5;28;43mself\u001b[39;49m\u001b[38;5;241;43m.\u001b[39;49m\u001b[43mcolumns\u001b[49m\u001b[38;5;241;43m.\u001b[39;49m\u001b[43mget_loc\u001b[49m\u001b[43m(\u001b[49m\u001b[43mkey\u001b[49m\u001b[43m)\u001b[49m\n\u001b[0;32m   4103\u001b[0m \u001b[38;5;28;01mif\u001b[39;00m is_integer(indexer):\n\u001b[0;32m   4104\u001b[0m     indexer \u001b[38;5;241m=\u001b[39m [indexer]\n",
      "File \u001b[1;32m~\\PycharmProjects\\data-processing\\lw-1\\.venv\\Lib\\site-packages\\pandas\\core\\indexes\\base.py:3812\u001b[0m, in \u001b[0;36mIndex.get_loc\u001b[1;34m(self, key)\u001b[0m\n\u001b[0;32m   3807\u001b[0m     \u001b[38;5;28;01mif\u001b[39;00m \u001b[38;5;28misinstance\u001b[39m(casted_key, \u001b[38;5;28mslice\u001b[39m) \u001b[38;5;129;01mor\u001b[39;00m (\n\u001b[0;32m   3808\u001b[0m         \u001b[38;5;28misinstance\u001b[39m(casted_key, abc\u001b[38;5;241m.\u001b[39mIterable)\n\u001b[0;32m   3809\u001b[0m         \u001b[38;5;129;01mand\u001b[39;00m \u001b[38;5;28many\u001b[39m(\u001b[38;5;28misinstance\u001b[39m(x, \u001b[38;5;28mslice\u001b[39m) \u001b[38;5;28;01mfor\u001b[39;00m x \u001b[38;5;129;01min\u001b[39;00m casted_key)\n\u001b[0;32m   3810\u001b[0m     ):\n\u001b[0;32m   3811\u001b[0m         \u001b[38;5;28;01mraise\u001b[39;00m InvalidIndexError(key)\n\u001b[1;32m-> 3812\u001b[0m     \u001b[38;5;28;01mraise\u001b[39;00m \u001b[38;5;167;01mKeyError\u001b[39;00m(key) \u001b[38;5;28;01mfrom\u001b[39;00m \u001b[38;5;21;01merr\u001b[39;00m\n\u001b[0;32m   3813\u001b[0m \u001b[38;5;28;01mexcept\u001b[39;00m \u001b[38;5;167;01mTypeError\u001b[39;00m:\n\u001b[0;32m   3814\u001b[0m     \u001b[38;5;66;03m# If we have a listlike key, _check_indexing_error will raise\u001b[39;00m\n\u001b[0;32m   3815\u001b[0m     \u001b[38;5;66;03m#  InvalidIndexError. Otherwise we fall through and re-raise\u001b[39;00m\n\u001b[0;32m   3816\u001b[0m     \u001b[38;5;66;03m#  the TypeError.\u001b[39;00m\n\u001b[0;32m   3817\u001b[0m     \u001b[38;5;28mself\u001b[39m\u001b[38;5;241m.\u001b[39m_check_indexing_error(key)\n",
      "\u001b[1;31mKeyError\u001b[0m: 'Gender_neutral_names'"
     ]
    }
   ],
   "source": [
    "male_names = file[file['Gender'] == 'M']\n",
    "female_names = file[file['Gender'] == 'F']\n",
    "gender_neutral_names = set(male_names['Name']).intersection(set(female_names['Name']))\n",
    "gender_neutral_data = file[file['Name'].isin(gender_neutral_names)]\n",
    "gender_neutral_counts = gender_neutral_data.groupby('Year')['Count'].sum().reset_index()\n",
    "print(gender_neutral_counts.loc[gender_neutral_counts['Count'].idxmax()])\n",
    "\n",
    "# Group by 'Name' and 'Year', then count unique 'Gender' values\n",
    "gender_count = file.groupby(['Name', 'Year'])['Gender'].nunique().reset_index()\n",
    "\n",
    "# Filter to find gender-neutral names (appearing for both male and female)\n",
    "gender_neutral = gender_count[gender_count['Gender'] > 1]\n",
    "\n",
    "# Count the number of gender-neutral names per year\n",
    "gender_neutral_per_year = gender_neutral.groupby('Year').size().reset_index(name='Gender_neutral_names')\n",
    "\n",
    "# Find the year with the highest count of gender-neutral names\n",
    "most_gender_neutral_year = gender_neutral_per_year.loc[gender_neutral_per_year['Gender_neutral_names'].idxmax()]\n",
    "\n",
    "# Display the result\n",
    "print(most_gender_neutral_year.to_frame().T.to_string(index=False))"
   ]
  },
  {
   "cell_type": "markdown",
   "id": "35dbd1f5-0a96-4ee0-becb-08344d9221d7",
   "metadata": {},
   "source": [
    "16. Знайдіть рік, коли народилося найбільше дітей"
   ]
  },
  {
   "cell_type": "code",
   "execution_count": 40,
   "id": "4d6e7cdc-842a-4cf1-a1fe-fd1892778416",
   "metadata": {},
   "outputs": [
    {
     "name": "stdout",
     "output_type": "stream",
     "text": [
      "1957\n"
     ]
    }
   ],
   "source": [
    "total_births_per_year = file.groupby('Year')['Count'].sum().reset_index()\n",
    "print(total_births_per_year.loc[total_births_per_year['Count'].idxmax()]['Year'])"
   ]
  },
  {
   "cell_type": "markdown",
   "id": "ea62ddac-b6fe-48d3-b7d5-7b1aa1fb998b",
   "metadata": {},
   "source": [
    "17. Знайдіть кількість дівчаток та хлопчиків, які народились кожного року"
   ]
  },
  {
   "cell_type": "code",
   "execution_count": null,
   "id": "0b370c11-732b-47ac-8349-359d0ef70e43",
   "metadata": {},
   "outputs": [],
   "source": []
  }
 ],
 "metadata": {
  "kernelspec": {
   "display_name": "Python 3 (ipykernel)",
   "language": "python",
   "name": "python3"
  },
  "language_info": {
   "codemirror_mode": {
    "name": "ipython",
    "version": 3
   },
   "file_extension": ".py",
   "mimetype": "text/x-python",
   "name": "python",
   "nbconvert_exporter": "python",
   "pygments_lexer": "ipython3",
   "version": "3.11.2"
  }
 },
 "nbformat": 4,
 "nbformat_minor": 5
}
